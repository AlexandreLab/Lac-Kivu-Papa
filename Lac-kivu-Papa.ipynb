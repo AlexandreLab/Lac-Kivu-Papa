{
 "cells": [
  {
   "cell_type": "code",
   "execution_count": 79,
   "metadata": {},
   "outputs": [
    {
     "name": "stdout",
     "output_type": "stream",
     "text": [
      "D:\\OneDrive - Cardiff University\\05 - Python\\00 - other\n",
      "D:\n",
      "OneDrive - Cardiff University\n",
      "D:\\OneDrive - Cardiff University\\\n"
     ]
    },
    {
     "data": {
      "image/png": "[encoded data removed]",
      "text/plain": [
       "<Figure size 1080x72 with 1 Axes>"
      ]
     },
     "metadata": {},
     "output_type": "display_data"
    }
   ],
   "source": [
    "import pandas as pd\n",
    "import seaborn as sns\n",
    "import matplotlib.pyplot as plt\n",
    "import matplotlib\n",
    "import numpy as np\n",
    "import calendar\n",
    "from pandas.tseries import offsets\n",
    "from datetime import date\n",
    "from datetime import datetime\n",
    "import matplotlib.ticker as tkr\n",
    "import math\n",
    "import sys\n",
    "import os\n",
    "\n",
    "%matplotlib inline  \n",
    "\n",
    "season_dict = {\"Winter\":1, \"Spring\":2, \"Summer\":3, 'High Summer':4, \"Autumn\":5}\n",
    "\n",
    "sns.set_palette(sns.color_palette(\"colorblind\", 15))\n",
    "plt.rcParams['font.family'] = 'Times New Roman'\n",
    "font_size = 12\n",
    "params = {'axes.labelsize': font_size+2,\n",
    "          'axes.titlesize':font_size+4,\n",
    "          'legend.fontsize': font_size, \n",
    "          'xtick.labelsize': font_size,\n",
    "          'ytick.labelsize': font_size,\n",
    "          'font.size': font_size}\n",
    "plt.rcParams.update(params)\n",
    "sns.set_style(\"whitegrid\")\n",
    "fig_format = \"png\"\n",
    "dpi = 600\n",
    "figsize = (12, 6.5)\n",
    "figsize_map = (3, 3)\n",
    "sns.palplot(sns.color_palette())\n",
    "\n",
    "print(os.getcwd())\n",
    "computer_path= \"\"\n",
    "for x in os.getcwd().split(os.path.sep):\n",
    "    print(x)\n",
    "    computer_path=computer_path+x+os.path.sep\n",
    "    if x == \"OneDrive - Cardiff University\":\n",
    "        break    \n",
    "    else: computer_path = os.getcwd().split(os.path.sep)[0]+os.path.sep\n",
    "print(computer_path)"
   ]
  },
  {
   "cell_type": "code",
   "execution_count": 80,
   "metadata": {},
   "outputs": [],
   "source": [
    "path = computer_path+r\"04 - Projects\\99 - Misc\\03 - Lac kivu\"\n",
    "filename = \"campagne_2010_Halbwachs_BRUT_0-364_Prof_Conductivite.xls\""
   ]
  },
  {
   "cell_type": "code",
   "execution_count": 81,
   "metadata": {},
   "outputs": [
    {
     "name": "stdout",
     "output_type": "stream",
     "text": [
      "(65442, 2)\n"
     ]
    },
    {
     "data": {
      "text/html": [
       "<div>\n",
       "<style scoped>\n",
       "    .dataframe tbody tr th:only-of-type {\n",
       "        vertical-align: middle;\n",
       "    }\n",
       "\n",
       "    .dataframe tbody tr th {\n",
       "        vertical-align: top;\n",
       "    }\n",
       "\n",
       "    .dataframe thead th {\n",
       "        text-align: right;\n",
       "    }\n",
       "</style>\n",
       "<table border=\"1\" class=\"dataframe\">\n",
       "  <thead>\n",
       "    <tr style=\"text-align: right;\">\n",
       "      <th></th>\n",
       "      <th>Depth</th>\n",
       "      <th>Conductivity</th>\n",
       "    </tr>\n",
       "  </thead>\n",
       "  <tbody>\n",
       "    <tr>\n",
       "      <th>0</th>\n",
       "      <td>0.000</td>\n",
       "      <td>0.000710</td>\n",
       "    </tr>\n",
       "    <tr>\n",
       "      <th>1</th>\n",
       "      <td>0.000</td>\n",
       "      <td>0.000766</td>\n",
       "    </tr>\n",
       "    <tr>\n",
       "      <th>2</th>\n",
       "      <td>0.000</td>\n",
       "      <td>0.000626</td>\n",
       "    </tr>\n",
       "    <tr>\n",
       "      <th>3</th>\n",
       "      <td>0.002</td>\n",
       "      <td>0.000794</td>\n",
       "    </tr>\n",
       "    <tr>\n",
       "      <th>4</th>\n",
       "      <td>0.004</td>\n",
       "      <td>0.000794</td>\n",
       "    </tr>\n",
       "    <tr>\n",
       "      <th>5</th>\n",
       "      <td>0.004</td>\n",
       "      <td>0.000710</td>\n",
       "    </tr>\n",
       "    <tr>\n",
       "      <th>6</th>\n",
       "      <td>0.004</td>\n",
       "      <td>0.000710</td>\n",
       "    </tr>\n",
       "    <tr>\n",
       "      <th>7</th>\n",
       "      <td>0.004</td>\n",
       "      <td>0.000710</td>\n",
       "    </tr>\n",
       "    <tr>\n",
       "      <th>8</th>\n",
       "      <td>0.004</td>\n",
       "      <td>0.000710</td>\n",
       "    </tr>\n",
       "    <tr>\n",
       "      <th>9</th>\n",
       "      <td>0.004</td>\n",
       "      <td>0.000710</td>\n",
       "    </tr>\n",
       "    <tr>\n",
       "      <th>10</th>\n",
       "      <td>0.004</td>\n",
       "      <td>0.000710</td>\n",
       "    </tr>\n",
       "    <tr>\n",
       "      <th>11</th>\n",
       "      <td>0.006</td>\n",
       "      <td>0.000710</td>\n",
       "    </tr>\n",
       "    <tr>\n",
       "      <th>12</th>\n",
       "      <td>0.006</td>\n",
       "      <td>0.000794</td>\n",
       "    </tr>\n",
       "    <tr>\n",
       "      <th>13</th>\n",
       "      <td>0.006</td>\n",
       "      <td>0.000794</td>\n",
       "    </tr>\n",
       "    <tr>\n",
       "      <th>14</th>\n",
       "      <td>0.006</td>\n",
       "      <td>0.000710</td>\n",
       "    </tr>\n",
       "    <tr>\n",
       "      <th>15</th>\n",
       "      <td>0.008</td>\n",
       "      <td>0.000710</td>\n",
       "    </tr>\n",
       "    <tr>\n",
       "      <th>16</th>\n",
       "      <td>0.008</td>\n",
       "      <td>0.000710</td>\n",
       "    </tr>\n",
       "    <tr>\n",
       "      <th>17</th>\n",
       "      <td>0.008</td>\n",
       "      <td>0.000766</td>\n",
       "    </tr>\n",
       "    <tr>\n",
       "      <th>18</th>\n",
       "      <td>0.015</td>\n",
       "      <td>0.000710</td>\n",
       "    </tr>\n",
       "    <tr>\n",
       "      <th>19</th>\n",
       "      <td>0.051</td>\n",
       "      <td>0.570814</td>\n",
       "    </tr>\n",
       "  </tbody>\n",
       "</table>\n",
       "</div>"
      ],
      "text/plain": [
       "    Depth  Conductivity\n",
       "0   0.000      0.000710\n",
       "1   0.000      0.000766\n",
       "2   0.000      0.000626\n",
       "3   0.002      0.000794\n",
       "4   0.004      0.000794\n",
       "5   0.004      0.000710\n",
       "6   0.004      0.000710\n",
       "7   0.004      0.000710\n",
       "8   0.004      0.000710\n",
       "9   0.004      0.000710\n",
       "10  0.004      0.000710\n",
       "11  0.006      0.000710\n",
       "12  0.006      0.000794\n",
       "13  0.006      0.000794\n",
       "14  0.006      0.000710\n",
       "15  0.008      0.000710\n",
       "16  0.008      0.000710\n",
       "17  0.008      0.000766\n",
       "18  0.015      0.000710\n",
       "19  0.051      0.570814"
      ]
     },
     "execution_count": 81,
     "metadata": {},
     "output_type": "execute_result"
    }
   ],
   "source": [
    "df = pd.read_excel(path+os.path.sep+filename)\n",
    "df.columns = [\"Depth\", \"Conductivity\"]\n",
    "df.sort_values(\"Depth\", inplace=True)\n",
    "df.reset_index(drop=True, inplace=True)\n",
    "print(df.shape)\n",
    "df.head(20)"
   ]
  },
  {
   "cell_type": "code",
   "execution_count": 82,
   "metadata": {},
   "outputs": [
    {
     "data": {
      "text/html": [
       "<div>\n",
       "<style scoped>\n",
       "    .dataframe tbody tr th:only-of-type {\n",
       "        vertical-align: middle;\n",
       "    }\n",
       "\n",
       "    .dataframe tbody tr th {\n",
       "        vertical-align: top;\n",
       "    }\n",
       "\n",
       "    .dataframe thead th {\n",
       "        text-align: right;\n",
       "    }\n",
       "</style>\n",
       "<table border=\"1\" class=\"dataframe\">\n",
       "  <thead>\n",
       "    <tr style=\"text-align: right;\">\n",
       "      <th></th>\n",
       "      <th>Depth</th>\n",
       "      <th>Conductivity</th>\n",
       "    </tr>\n",
       "  </thead>\n",
       "  <tbody>\n",
       "    <tr>\n",
       "      <th>count</th>\n",
       "      <td>65442.000000</td>\n",
       "      <td>65442.000000</td>\n",
       "    </tr>\n",
       "    <tr>\n",
       "      <th>mean</th>\n",
       "      <td>264.735053</td>\n",
       "      <td>4.279275</td>\n",
       "    </tr>\n",
       "    <tr>\n",
       "      <th>std</th>\n",
       "      <td>118.986604</td>\n",
       "      <td>1.633510</td>\n",
       "    </tr>\n",
       "    <tr>\n",
       "      <th>min</th>\n",
       "      <td>0.000000</td>\n",
       "      <td>0.000626</td>\n",
       "    </tr>\n",
       "    <tr>\n",
       "      <th>25%</th>\n",
       "      <td>172.937500</td>\n",
       "      <td>2.687474</td>\n",
       "    </tr>\n",
       "    <tr>\n",
       "      <th>50%</th>\n",
       "      <td>327.859000</td>\n",
       "      <td>5.528880</td>\n",
       "    </tr>\n",
       "    <tr>\n",
       "      <th>75%</th>\n",
       "      <td>363.979000</td>\n",
       "      <td>5.593822</td>\n",
       "    </tr>\n",
       "    <tr>\n",
       "      <th>max</th>\n",
       "      <td>364.023000</td>\n",
       "      <td>5.601254</td>\n",
       "    </tr>\n",
       "  </tbody>\n",
       "</table>\n",
       "</div>"
      ],
      "text/plain": [
       "              Depth  Conductivity\n",
       "count  65442.000000  65442.000000\n",
       "mean     264.735053      4.279275\n",
       "std      118.986604      1.633510\n",
       "min        0.000000      0.000626\n",
       "25%      172.937500      2.687474\n",
       "50%      327.859000      5.528880\n",
       "75%      363.979000      5.593822\n",
       "max      364.023000      5.601254"
      ]
     },
     "execution_count": 82,
     "metadata": {},
     "output_type": "execute_result"
    }
   ],
   "source": [
    "df.describe()"
   ]
  },
  {
   "cell_type": "code",
   "execution_count": 83,
   "metadata": {},
   "outputs": [
    {
     "data": {
      "text/plain": [
       "<matplotlib.axes._subplots.AxesSubplot at 0x1ed4c2d0c88>"
      ]
     },
     "execution_count": 83,
     "metadata": {},
     "output_type": "execute_result"
    },
    {
     "data": {
      "image/png": "[encoded data removed]",
      "text/plain": [
       "<Figure size 864x468 with 1 Axes>"
      ]
     },
     "metadata": {},
     "output_type": "display_data"
    }
   ],
   "source": [
    "fig, ax = plt.subplots(figsize=figsize)\n",
    "sns.scatterplot(x=\"Depth\", y=\"Conductivity\", data=df,marker='+')"
   ]
  },
  {
   "cell_type": "markdown",
   "metadata": {},
   "source": [
    "## Methode brute"
   ]
  },
  {
   "cell_type": "code",
   "execution_count": 84,
   "metadata": {},
   "outputs": [
    {
     "data": {
      "text/html": [
       "<div>\n",
       "<style scoped>\n",
       "    .dataframe tbody tr th:only-of-type {\n",
       "        vertical-align: middle;\n",
       "    }\n",
       "\n",
       "    .dataframe tbody tr th {\n",
       "        vertical-align: top;\n",
       "    }\n",
       "\n",
       "    .dataframe thead th {\n",
       "        text-align: right;\n",
       "    }\n",
       "</style>\n",
       "<table border=\"1\" class=\"dataframe\">\n",
       "  <thead>\n",
       "    <tr style=\"text-align: right;\">\n",
       "      <th></th>\n",
       "      <th>Depth</th>\n",
       "      <th>Conductivity</th>\n",
       "    </tr>\n",
       "  </thead>\n",
       "  <tbody>\n",
       "    <tr>\n",
       "      <th>0</th>\n",
       "      <td>0.000</td>\n",
       "      <td>0.000701</td>\n",
       "    </tr>\n",
       "    <tr>\n",
       "      <th>1</th>\n",
       "      <td>0.002</td>\n",
       "      <td>0.000794</td>\n",
       "    </tr>\n",
       "    <tr>\n",
       "      <th>2</th>\n",
       "      <td>0.004</td>\n",
       "      <td>0.000722</td>\n",
       "    </tr>\n",
       "    <tr>\n",
       "      <th>3</th>\n",
       "      <td>0.006</td>\n",
       "      <td>0.000752</td>\n",
       "    </tr>\n",
       "    <tr>\n",
       "      <th>4</th>\n",
       "      <td>0.008</td>\n",
       "      <td>0.000729</td>\n",
       "    </tr>\n",
       "  </tbody>\n",
       "</table>\n",
       "</div>"
      ],
      "text/plain": [
       "   Depth  Conductivity\n",
       "0  0.000      0.000701\n",
       "1  0.002      0.000794\n",
       "2  0.004      0.000722\n",
       "3  0.006      0.000752\n",
       "4  0.008      0.000729"
      ]
     },
     "execution_count": 84,
     "metadata": {},
     "output_type": "execute_result"
    }
   ],
   "source": [
    "# Do the average of the conductivity for each depth value\n",
    "df_mean = df.groupby(\"Depth\").mean()\n",
    "df_mean.reset_index(inplace=True)\n",
    "df_mean.head()"
   ]
  },
  {
   "cell_type": "code",
   "execution_count": 85,
   "metadata": {},
   "outputs": [
    {
     "data": {
      "text/html": [
       "<div>\n",
       "<style scoped>\n",
       "    .dataframe tbody tr th:only-of-type {\n",
       "        vertical-align: middle;\n",
       "    }\n",
       "\n",
       "    .dataframe tbody tr th {\n",
       "        vertical-align: top;\n",
       "    }\n",
       "\n",
       "    .dataframe thead th {\n",
       "        text-align: right;\n",
       "    }\n",
       "</style>\n",
       "<table border=\"1\" class=\"dataframe\">\n",
       "  <thead>\n",
       "    <tr style=\"text-align: right;\">\n",
       "      <th></th>\n",
       "      <th>Depth</th>\n",
       "      <th>Conductivity</th>\n",
       "    </tr>\n",
       "  </thead>\n",
       "  <tbody>\n",
       "    <tr>\n",
       "      <th>count</th>\n",
       "      <td>34202.000000</td>\n",
       "      <td>34202.000000</td>\n",
       "    </tr>\n",
       "    <tr>\n",
       "      <th>mean</th>\n",
       "      <td>195.333625</td>\n",
       "      <td>3.351421</td>\n",
       "    </tr>\n",
       "    <tr>\n",
       "      <th>std</th>\n",
       "      <td>107.046803</td>\n",
       "      <td>1.541983</td>\n",
       "    </tr>\n",
       "    <tr>\n",
       "      <th>min</th>\n",
       "      <td>0.000000</td>\n",
       "      <td>0.000701</td>\n",
       "    </tr>\n",
       "    <tr>\n",
       "      <th>25%</th>\n",
       "      <td>104.259750</td>\n",
       "      <td>2.285897</td>\n",
       "    </tr>\n",
       "    <tr>\n",
       "      <th>50%</th>\n",
       "      <td>200.792000</td>\n",
       "      <td>3.127759</td>\n",
       "    </tr>\n",
       "    <tr>\n",
       "      <th>75%</th>\n",
       "      <td>289.772750</td>\n",
       "      <td>4.899990</td>\n",
       "    </tr>\n",
       "    <tr>\n",
       "      <th>max</th>\n",
       "      <td>364.023000</td>\n",
       "      <td>5.601114</td>\n",
       "    </tr>\n",
       "  </tbody>\n",
       "</table>\n",
       "</div>"
      ],
      "text/plain": [
       "              Depth  Conductivity\n",
       "count  34202.000000  34202.000000\n",
       "mean     195.333625      3.351421\n",
       "std      107.046803      1.541983\n",
       "min        0.000000      0.000701\n",
       "25%      104.259750      2.285897\n",
       "50%      200.792000      3.127759\n",
       "75%      289.772750      4.899990\n",
       "max      364.023000      5.601114"
      ]
     },
     "execution_count": 85,
     "metadata": {},
     "output_type": "execute_result"
    }
   ],
   "source": [
    "df_mean.describe()"
   ]
  },
  {
   "cell_type": "code",
   "execution_count": 86,
   "metadata": {},
   "outputs": [
    {
     "data": {
      "text/html": [
       "<div>\n",
       "<style scoped>\n",
       "    .dataframe tbody tr th:only-of-type {\n",
       "        vertical-align: middle;\n",
       "    }\n",
       "\n",
       "    .dataframe tbody tr th {\n",
       "        vertical-align: top;\n",
       "    }\n",
       "\n",
       "    .dataframe thead th {\n",
       "        text-align: right;\n",
       "    }\n",
       "</style>\n",
       "<table border=\"1\" class=\"dataframe\">\n",
       "  <thead>\n",
       "    <tr style=\"text-align: right;\">\n",
       "      <th></th>\n",
       "      <th>Depth</th>\n",
       "      <th>Conductivity</th>\n",
       "      <th>Gradient</th>\n",
       "    </tr>\n",
       "  </thead>\n",
       "  <tbody>\n",
       "    <tr>\n",
       "      <th>0</th>\n",
       "      <td>0.000</td>\n",
       "      <td>0.000701</td>\n",
       "      <td>0.000000</td>\n",
       "    </tr>\n",
       "    <tr>\n",
       "      <th>1</th>\n",
       "      <td>0.002</td>\n",
       "      <td>0.000794</td>\n",
       "      <td>0.046667</td>\n",
       "    </tr>\n",
       "    <tr>\n",
       "      <th>2</th>\n",
       "      <td>0.004</td>\n",
       "      <td>0.000722</td>\n",
       "      <td>-0.036000</td>\n",
       "    </tr>\n",
       "    <tr>\n",
       "      <th>3</th>\n",
       "      <td>0.006</td>\n",
       "      <td>0.000752</td>\n",
       "      <td>0.015000</td>\n",
       "    </tr>\n",
       "    <tr>\n",
       "      <th>4</th>\n",
       "      <td>0.008</td>\n",
       "      <td>0.000729</td>\n",
       "      <td>-0.011667</td>\n",
       "    </tr>\n",
       "    <tr>\n",
       "      <th>5</th>\n",
       "      <td>0.015</td>\n",
       "      <td>0.000710</td>\n",
       "      <td>-0.002667</td>\n",
       "    </tr>\n",
       "    <tr>\n",
       "      <th>6</th>\n",
       "      <td>0.051</td>\n",
       "      <td>0.570814</td>\n",
       "      <td>15.836222</td>\n",
       "    </tr>\n",
       "    <tr>\n",
       "      <th>7</th>\n",
       "      <td>0.136</td>\n",
       "      <td>1.081838</td>\n",
       "      <td>6.012047</td>\n",
       "    </tr>\n",
       "    <tr>\n",
       "      <th>8</th>\n",
       "      <td>0.202</td>\n",
       "      <td>1.179101</td>\n",
       "      <td>1.473682</td>\n",
       "    </tr>\n",
       "    <tr>\n",
       "      <th>9</th>\n",
       "      <td>0.261</td>\n",
       "      <td>1.179367</td>\n",
       "      <td>0.004508</td>\n",
       "    </tr>\n",
       "    <tr>\n",
       "      <th>10</th>\n",
       "      <td>0.303</td>\n",
       "      <td>1.180847</td>\n",
       "      <td>0.035238</td>\n",
       "    </tr>\n",
       "    <tr>\n",
       "      <th>11</th>\n",
       "      <td>0.350</td>\n",
       "      <td>1.180226</td>\n",
       "      <td>-0.013213</td>\n",
       "    </tr>\n",
       "    <tr>\n",
       "      <th>12</th>\n",
       "      <td>0.392</td>\n",
       "      <td>1.180462</td>\n",
       "      <td>0.005619</td>\n",
       "    </tr>\n",
       "    <tr>\n",
       "      <th>13</th>\n",
       "      <td>0.434</td>\n",
       "      <td>1.180847</td>\n",
       "      <td>0.009167</td>\n",
       "    </tr>\n",
       "    <tr>\n",
       "      <th>14</th>\n",
       "      <td>0.466</td>\n",
       "      <td>1.180995</td>\n",
       "      <td>0.004625</td>\n",
       "    </tr>\n",
       "    <tr>\n",
       "      <th>15</th>\n",
       "      <td>0.493</td>\n",
       "      <td>1.181025</td>\n",
       "      <td>0.001111</td>\n",
       "    </tr>\n",
       "    <tr>\n",
       "      <th>16</th>\n",
       "      <td>0.515</td>\n",
       "      <td>1.180995</td>\n",
       "      <td>-0.001364</td>\n",
       "    </tr>\n",
       "    <tr>\n",
       "      <th>17</th>\n",
       "      <td>0.532</td>\n",
       "      <td>1.180995</td>\n",
       "      <td>-0.000000</td>\n",
       "    </tr>\n",
       "    <tr>\n",
       "      <th>18</th>\n",
       "      <td>0.533</td>\n",
       "      <td>1.180995</td>\n",
       "      <td>-0.000000</td>\n",
       "    </tr>\n",
       "    <tr>\n",
       "      <th>19</th>\n",
       "      <td>0.539</td>\n",
       "      <td>1.180995</td>\n",
       "      <td>-0.000000</td>\n",
       "    </tr>\n",
       "  </tbody>\n",
       "</table>\n",
       "</div>"
      ],
      "text/plain": [
       "    Depth  Conductivity   Gradient\n",
       "0   0.000      0.000701   0.000000\n",
       "1   0.002      0.000794   0.046667\n",
       "2   0.004      0.000722  -0.036000\n",
       "3   0.006      0.000752   0.015000\n",
       "4   0.008      0.000729  -0.011667\n",
       "5   0.015      0.000710  -0.002667\n",
       "6   0.051      0.570814  15.836222\n",
       "7   0.136      1.081838   6.012047\n",
       "8   0.202      1.179101   1.473682\n",
       "9   0.261      1.179367   0.004508\n",
       "10  0.303      1.180847   0.035238\n",
       "11  0.350      1.180226  -0.013213\n",
       "12  0.392      1.180462   0.005619\n",
       "13  0.434      1.180847   0.009167\n",
       "14  0.466      1.180995   0.004625\n",
       "15  0.493      1.181025   0.001111\n",
       "16  0.515      1.180995  -0.001364\n",
       "17  0.532      1.180995  -0.000000\n",
       "18  0.533      1.180995  -0.000000\n",
       "19  0.539      1.180995  -0.000000"
      ]
     },
     "execution_count": 86,
     "metadata": {},
     "output_type": "execute_result"
    }
   ],
   "source": [
    "df_mean[\"Gradient\"]=(df_mean[\"Conductivity\"].shift(1)-df_mean[\"Conductivity\"])/(df_mean[\"Depth\"].shift(1)-df_mean[\"Depth\"])\n",
    "df_mean[\"Gradient\"].fillna(0, inplace=True)\n",
    "df_mean.head(20)"
   ]
  },
  {
   "cell_type": "code",
   "execution_count": 87,
   "metadata": {},
   "outputs": [
    {
     "data": {
      "text/plain": [
       "Text(0, 0.5, 'Gradient')"
      ]
     },
     "execution_count": 87,
     "metadata": {},
     "output_type": "execute_result"
    },
    {
     "data": {
      "image/png": "[encoded data removed]",
      "text/plain": [
       "<Figure size 864x468 with 2 Axes>"
      ]
     },
     "metadata": {},
     "output_type": "display_data"
    }
   ],
   "source": [
    "fig, ax = plt.subplots(figsize=figsize)\n",
    "ax2 = ax.twinx()\n",
    "#not plotting from the start as there is a peak at index 6-9\n",
    "df_to_plot = df_mean.iloc[10:].copy()\n",
    "sns.scatterplot(x=\"Depth\", y=\"Conductivity\", data=df_to_plot,marker='+', ax=ax)\n",
    "ax2.plot(df_to_plot[\"Depth\"].values, df_to_plot[\"Gradient\"].values, color='red', linewidth=0.5, label=\"Gradient\")\n",
    "ax2.set_ylabel(\"Gradient\")"
   ]
  },
  {
   "cell_type": "code",
   "execution_count": 88,
   "metadata": {},
   "outputs": [],
   "source": [
    "## if the gradient can't be negative"
   ]
  },
  {
   "cell_type": "code",
   "execution_count": 89,
   "metadata": {},
   "outputs": [
    {
     "data": {
      "text/plain": [
       "Text(0, 0.5, 'Gradient')"
      ]
     },
     "execution_count": 89,
     "metadata": {},
     "output_type": "execute_result"
    },
    {
     "data": {
      "image/png": "[encoded data removed]",
      "text/plain": [
       "<Figure size 864x468 with 2 Axes>"
      ]
     },
     "metadata": {},
     "output_type": "display_data"
    }
   ],
   "source": [
    "df_mean.loc[df_mean[\"Gradient\"]<0, \"Gradient\"]=0\n",
    "\n",
    "fig, ax = plt.subplots(figsize=figsize)\n",
    "ax2 = ax.twinx()\n",
    "df_to_plot = df_mean.iloc[10:].copy()\n",
    "sns.scatterplot(x=\"Depth\", y=\"Conductivity\", data=df_to_plot,marker='+', ax=ax)\n",
    "ax2.plot(df_to_plot[\"Depth\"].values, df_to_plot[\"Gradient\"].values, color='red', linewidth=0.5, label=\"Gradient\")\n",
    "ax2.set_ylabel(\"Gradient\")"
   ]
  },
  {
   "cell_type": "markdown",
   "metadata": {},
   "source": [
    "## Methode brute avec un peu de smoothing"
   ]
  },
  {
   "cell_type": "code",
   "execution_count": 90,
   "metadata": {},
   "outputs": [],
   "source": [
    "# Smoothing\n",
    "df_mean[\"Conductivity\"] = df_mean[\"Conductivity\"].rolling(window=6, center=True, min_periods=1).mean()\n",
    "\n",
    "# Calculation of the gradient\n",
    "df_mean[\"Gradient\"]=(df_mean[\"Conductivity\"].shift(1)-df_mean[\"Conductivity\"])/(df_mean[\"Depth\"].shift(1)-df_mean[\"Depth\"])\n",
    "df_mean[\"Gradient\"].fillna(0, inplace=True)"
   ]
  },
  {
   "cell_type": "code",
   "execution_count": 91,
   "metadata": {},
   "outputs": [
    {
     "data": {
      "text/plain": [
       "Text(0, 0.5, 'Gradient')"
      ]
     },
     "execution_count": 91,
     "metadata": {},
     "output_type": "execute_result"
    },
    {
     "data": {
      "image/png": "[encoded data removed]",
      "text/plain": [
       "<Figure size 864x468 with 2 Axes>"
      ]
     },
     "metadata": {},
     "output_type": "display_data"
    }
   ],
   "source": [
    "\n",
    "fig, ax = plt.subplots(figsize=figsize)\n",
    "ax2 = ax.twinx()\n",
    "df_to_plot = df_mean.iloc[10:].copy()\n",
    "sns.scatterplot(x=\"Depth\", y=\"Conductivity\", data=df_to_plot,marker='+', ax=ax)\n",
    "ax2.plot(df_to_plot[\"Depth\"].values, df_to_plot[\"Gradient\"].values, color='red', linewidth=0.5, label=\"Gradient\")\n",
    "ax2.set_ylabel(\"Gradient\")"
   ]
  }
 ],
 "metadata": {
  "kernelspec": {
   "display_name": "Python 3",
   "language": "python",
   "name": "python3"
  },
  "language_info": {
   "codemirror_mode": {
    "name": "ipython",
    "version": 3
   },
   "file_extension": ".py",
   "mimetype": "text/x-python",
   "name": "python",
   "nbconvert_exporter": "python",
   "pygments_lexer": "ipython3",
   "version": "3.7.4"
  }
 },
 "nbformat": 4,
 "nbformat_minor": 4
}
